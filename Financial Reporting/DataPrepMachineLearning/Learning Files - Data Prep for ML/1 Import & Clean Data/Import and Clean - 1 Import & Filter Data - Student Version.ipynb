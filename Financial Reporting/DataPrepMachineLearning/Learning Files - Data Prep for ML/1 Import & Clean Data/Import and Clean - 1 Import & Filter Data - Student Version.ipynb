{
 "cells": [
  {
   "cell_type": "markdown",
   "metadata": {},
   "source": [
    "# Importing & FIltering Data"
   ]
  },
  {
   "cell_type": "markdown",
   "metadata": {},
   "source": [
    "In this notebook, we will go over the common steps to take when importing and filtering data. Importing and filtering data properly is a foundational skill, as we can easily import and work with a data file and shift through it to find specific data that fits our use case."
   ]
  },
  {
   "cell_type": "markdown",
   "metadata": {},
   "source": [
    "### Import Basic Packages"
   ]
  },
  {
   "cell_type": "code",
   "execution_count": 1,
   "metadata": {},
   "outputs": [],
   "source": [
    "#Basics\n",
    "import numpy as np\n",
    "import pandas as pd"
   ]
  },
  {
   "cell_type": "markdown",
   "metadata": {},
   "source": [
    "### Import Data from CSV"
   ]
  },
  {
   "cell_type": "markdown",
   "metadata": {},
   "source": [
    "In this scenario we'll import a dataset of students enrolled in a school and explore ways to select and filter data of interest.\n",
    "\n",
    "\n"
   ]
  },
  {
   "cell_type": "code",
   "execution_count": 2,
   "metadata": {},
   "outputs": [
    {
     "data": {
      "text/html": [
       "<div>\n",
       "<style scoped>\n",
       "    .dataframe tbody tr th:only-of-type {\n",
       "        vertical-align: middle;\n",
       "    }\n",
       "\n",
       "    .dataframe tbody tr th {\n",
       "        vertical-align: top;\n",
       "    }\n",
       "\n",
       "    .dataframe thead th {\n",
       "        text-align: right;\n",
       "    }\n",
       "</style>\n",
       "<table border=\"1\" class=\"dataframe\">\n",
       "  <thead>\n",
       "    <tr style=\"text-align: right;\">\n",
       "      <th></th>\n",
       "      <th>student_ID</th>\n",
       "      <th>first_name</th>\n",
       "      <th>last_name</th>\n",
       "      <th>grade_avg</th>\n",
       "      <th>faculty</th>\n",
       "      <th>tuition</th>\n",
       "      <th>OH_participated</th>\n",
       "      <th>classes_skipped</th>\n",
       "    </tr>\n",
       "  </thead>\n",
       "  <tbody>\n",
       "    <tr>\n",
       "      <th>0</th>\n",
       "      <td>20123456.0</td>\n",
       "      <td>John</td>\n",
       "      <td>Park</td>\n",
       "      <td>B</td>\n",
       "      <td>Arts</td>\n",
       "      <td>44191.0</td>\n",
       "      <td>0</td>\n",
       "      <td>5.0</td>\n",
       "    </tr>\n",
       "    <tr>\n",
       "      <th>1</th>\n",
       "      <td>20123457.0</td>\n",
       "      <td>Alex</td>\n",
       "      <td>Great</td>\n",
       "      <td>B</td>\n",
       "      <td>Science</td>\n",
       "      <td>32245.0</td>\n",
       "      <td>\"4\"</td>\n",
       "      <td>10.0</td>\n",
       "    </tr>\n",
       "    <tr>\n",
       "      <th>2</th>\n",
       "      <td>20123458.0</td>\n",
       "      <td>Sebastian</td>\n",
       "      <td>Taylor</td>\n",
       "      <td>B</td>\n",
       "      <td>Business</td>\n",
       "      <td>42679.0</td>\n",
       "      <td>6</td>\n",
       "      <td>7.0</td>\n",
       "    </tr>\n",
       "    <tr>\n",
       "      <th>3</th>\n",
       "      <td>20123459.0</td>\n",
       "      <td>Michael</td>\n",
       "      <td>Bay</td>\n",
       "      <td>A</td>\n",
       "      <td>Math</td>\n",
       "      <td>46478.0</td>\n",
       "      <td>15</td>\n",
       "      <td>2.0</td>\n",
       "    </tr>\n",
       "    <tr>\n",
       "      <th>4</th>\n",
       "      <td>20123460.0</td>\n",
       "      <td>Scott</td>\n",
       "      <td>Foster</td>\n",
       "      <td>A</td>\n",
       "      <td>Engineering</td>\n",
       "      <td>36784.0</td>\n",
       "      <td>5</td>\n",
       "      <td>8.0</td>\n",
       "    </tr>\n",
       "  </tbody>\n",
       "</table>\n",
       "</div>"
      ],
      "text/plain": [
       "   student_ID first_name last_name grade_avg      faculty  tuition  \\\n",
       "0  20123456.0       John      Park         B         Arts  44191.0   \n",
       "1  20123457.0       Alex     Great         B      Science  32245.0   \n",
       "2  20123458.0  Sebastian    Taylor         B     Business  42679.0   \n",
       "3  20123459.0    Michael       Bay         A         Math  46478.0   \n",
       "4  20123460.0      Scott    Foster         A  Engineering  36784.0   \n",
       "\n",
       "  OH_participated  classes_skipped  \n",
       "0               0              5.0  \n",
       "1             \"4\"             10.0  \n",
       "2               6              7.0  \n",
       "3              15              2.0  \n",
       "4               5              8.0  "
      ]
     },
     "execution_count": 2,
     "metadata": {},
     "output_type": "execute_result"
    }
   ],
   "source": [
    "# Import CSV data to a pandas dataframe\n",
    "df = pd.read_csv('student grades.csv')\n",
    "df.head()"
   ]
  },
  {
   "cell_type": "markdown",
   "metadata": {},
   "source": [
    "### Import Data from Excel File"
   ]
  },
  {
   "cell_type": "markdown",
   "metadata": {},
   "source": [
    "**pd.read_excel function**\n",
    "\n",
    "- Default is to import first sheet of an Excel file. **sheet_name** argument defines which sheet the data should come from \n",
    "- **usecols** arugment defines which columns to import\n",
    "\n",
    "In addition, there are many other arguments that can be defined to specify how the file should be interpreted.\n",
    "\n",
    "Documentation here: https://pandas.pydata.org/docs/reference/api/pandas.read_excel.html"
   ]
  },
  {
   "cell_type": "code",
   "execution_count": 11,
   "metadata": {},
   "outputs": [
    {
     "data": {
      "text/html": [
       "<div>\n",
       "<style scoped>\n",
       "    .dataframe tbody tr th:only-of-type {\n",
       "        vertical-align: middle;\n",
       "    }\n",
       "\n",
       "    .dataframe tbody tr th {\n",
       "        vertical-align: top;\n",
       "    }\n",
       "\n",
       "    .dataframe thead th {\n",
       "        text-align: right;\n",
       "    }\n",
       "</style>\n",
       "<table border=\"1\" class=\"dataframe\">\n",
       "  <thead>\n",
       "    <tr style=\"text-align: right;\">\n",
       "      <th></th>\n",
       "      <th>student_ID</th>\n",
       "      <th>first_name</th>\n",
       "      <th>last_name</th>\n",
       "      <th>grade_avg</th>\n",
       "      <th>faculty</th>\n",
       "      <th>tuition</th>\n",
       "      <th>OH_participated</th>\n",
       "      <th>classes_skipped</th>\n",
       "    </tr>\n",
       "  </thead>\n",
       "  <tbody>\n",
       "    <tr>\n",
       "      <th>0</th>\n",
       "      <td>20123456</td>\n",
       "      <td>John</td>\n",
       "      <td>Park</td>\n",
       "      <td>B</td>\n",
       "      <td>Arts</td>\n",
       "      <td>44191</td>\n",
       "      <td>0</td>\n",
       "      <td>5</td>\n",
       "    </tr>\n",
       "    <tr>\n",
       "      <th>1</th>\n",
       "      <td>20123457</td>\n",
       "      <td>Alex</td>\n",
       "      <td>Great</td>\n",
       "      <td>B</td>\n",
       "      <td>Science</td>\n",
       "      <td>32245</td>\n",
       "      <td>4</td>\n",
       "      <td>10</td>\n",
       "    </tr>\n",
       "    <tr>\n",
       "      <th>2</th>\n",
       "      <td>20123458</td>\n",
       "      <td>Sebastian</td>\n",
       "      <td>Taylor</td>\n",
       "      <td>B</td>\n",
       "      <td>Business</td>\n",
       "      <td>42679</td>\n",
       "      <td>6</td>\n",
       "      <td>7</td>\n",
       "    </tr>\n",
       "    <tr>\n",
       "      <th>3</th>\n",
       "      <td>20123459</td>\n",
       "      <td>Michael</td>\n",
       "      <td>Bay</td>\n",
       "      <td>A</td>\n",
       "      <td>Math</td>\n",
       "      <td>46478</td>\n",
       "      <td>15</td>\n",
       "      <td>2</td>\n",
       "    </tr>\n",
       "    <tr>\n",
       "      <th>4</th>\n",
       "      <td>20123460</td>\n",
       "      <td>Scott</td>\n",
       "      <td>Foster</td>\n",
       "      <td>A</td>\n",
       "      <td>Engineering</td>\n",
       "      <td>36784</td>\n",
       "      <td>5</td>\n",
       "      <td>8</td>\n",
       "    </tr>\n",
       "  </tbody>\n",
       "</table>\n",
       "</div>"
      ],
      "text/plain": [
       "   student_ID first_name last_name grade_avg      faculty  tuition  \\\n",
       "0    20123456       John      Park         B         Arts    44191   \n",
       "1    20123457       Alex     Great         B      Science    32245   \n",
       "2    20123458  Sebastian    Taylor         B     Business    42679   \n",
       "3    20123459    Michael       Bay         A         Math    46478   \n",
       "4    20123460      Scott    Foster         A  Engineering    36784   \n",
       "\n",
       "   OH_participated  classes_skipped  \n",
       "0                0                5  \n",
       "1                4               10  \n",
       "2                6                7  \n",
       "3               15                2  \n",
       "4                5                8  "
      ]
     },
     "execution_count": 11,
     "metadata": {},
     "output_type": "execute_result"
    }
   ],
   "source": [
    "# Import data to a pandas dataframe\n",
    "df_excel = pd.read_excel(\"student grades.xlsx\", sheet_name='student_grades')\n",
    "df_excel.head()"
   ]
  },
  {
   "cell_type": "markdown",
   "metadata": {},
   "source": [
    "### Import Data Using SQL Query"
   ]
  },
  {
   "cell_type": "markdown",
   "metadata": {},
   "source": [
    "Here we have simply defined an SQL query we want to use to retrieve data from our database."
   ]
  },
  {
   "cell_type": "code",
   "execution_count": 15,
   "metadata": {},
   "outputs": [],
   "source": [
    "sql_query = \"\"\"SELECT \n",
    " \n",
    "    hist.FactID,\n",
    "    hist.Date,\n",
    "    hist.[Open],\n",
    "    hist.High,\n",
    "    hist.Low,\n",
    "    hist.[Close],\n",
    "    hist.AdjClose,\n",
    "    hist.Volume,\n",
    " \n",
    "    sec.Company,\n",
    "    sec.Symbol,\n",
    "    sec.Industry,\n",
    "    sec.IndexWeighting,\n",
    " \n",
    "    exc.Symbol AS Exchange\n",
    " \n",
    "FROM [dbo].[FactPrices_Daily] AS hist\n",
    " \n",
    "   INNER JOIN [dbo].[dimSecurity] AS sec \n",
    "      ON hist.SecurityID = sec.ID\n",
    "      \n",
    "   INNER JOIN [dbo].[dimExchange] AS exc \n",
    "      ON sec.ExchangeID = exc.ID\n",
    ";\"\"\""
   ]
  },
  {
   "cell_type": "markdown",
   "metadata": {},
   "source": [
    "### Import Data from SQL Database Using pyodbc & sqlalchemy (Windows only syntax)"
   ]
  },
  {
   "cell_type": "markdown",
   "metadata": {},
   "source": [
    "Depending on the SQL server type being used, and the drivers on your computer, the syntax below may be slightly different.\n",
    "\n",
    "You may need to download ODBC Driver 18 from here: https://go.microsoft.com/fwlink/?linkid=2214634"
   ]
  },
  {
   "cell_type": "code",
   "execution_count": 3,
   "metadata": {},
   "outputs": [
    {
     "name": "stdout",
     "output_type": "stream",
     "text": [
      "Requirement already satisfied: pyodbc in /Library/Frameworks/Python.framework/Versions/3.12/lib/python3.12/site-packages (5.1.0)\n",
      "Note: you may need to restart the kernel to use updated packages.\n"
     ]
    }
   ],
   "source": [
    "pip install pyodbc"
   ]
  },
  {
   "cell_type": "code",
   "execution_count": 19,
   "metadata": {},
   "outputs": [
    {
     "ename": "ImportError",
     "evalue": "dlopen(/Library/Frameworks/Python.framework/Versions/3.11/lib/python3.11/site-packages/pyodbc.cpython-311-darwin.so, 0x0002): Library not loaded: /opt/homebrew/opt/unixodbc/lib/libodbc.2.dylib\n  Referenced from: <14157F1E-6530-35E7-871F-806026559F60> /Library/Frameworks/Python.framework/Versions/3.11/lib/python3.11/site-packages/pyodbc.cpython-311-darwin.so\n  Reason: tried: '/opt/homebrew/opt/unixodbc/lib/libodbc.2.dylib' (no such file), '/System/Volumes/Preboot/Cryptexes/OS/opt/homebrew/opt/unixodbc/lib/libodbc.2.dylib' (no such file), '/opt/homebrew/opt/unixodbc/lib/libodbc.2.dylib' (no such file)",
     "output_type": "error",
     "traceback": [
      "\u001b[0;31m---------------------------------------------------------------------------\u001b[0m",
      "\u001b[0;31mImportError\u001b[0m                               Traceback (most recent call last)",
      "Cell \u001b[0;32mIn[19], line 1\u001b[0m\n\u001b[0;32m----> 1\u001b[0m \u001b[38;5;28;01mimport\u001b[39;00m \u001b[38;5;21;01mpyodbc\u001b[39;00m\n\u001b[1;32m      2\u001b[0m \u001b[38;5;28;01mimport\u001b[39;00m \u001b[38;5;21;01mos\u001b[39;00m\n\u001b[1;32m      3\u001b[0m \u001b[38;5;28;01mimport\u001b[39;00m \u001b[38;5;21;01murllib\u001b[39;00m\n",
      "\u001b[0;31mImportError\u001b[0m: dlopen(/Library/Frameworks/Python.framework/Versions/3.11/lib/python3.11/site-packages/pyodbc.cpython-311-darwin.so, 0x0002): Library not loaded: /opt/homebrew/opt/unixodbc/lib/libodbc.2.dylib\n  Referenced from: <14157F1E-6530-35E7-871F-806026559F60> /Library/Frameworks/Python.framework/Versions/3.11/lib/python3.11/site-packages/pyodbc.cpython-311-darwin.so\n  Reason: tried: '/opt/homebrew/opt/unixodbc/lib/libodbc.2.dylib' (no such file), '/System/Volumes/Preboot/Cryptexes/OS/opt/homebrew/opt/unixodbc/lib/libodbc.2.dylib' (no such file), '/opt/homebrew/opt/unixodbc/lib/libodbc.2.dylib' (no such file)"
     ]
    }
   ],
   "source": [
    "import pyodbc\n",
    "import os\n",
    "import urllib\n",
    "from sqlalchemy import create_engine\n",
    "# Some other example server values are\n",
    "# server = 'localhost\\sqlexpress' # for a named instance\n",
    "# server = 'myserver,port' # to specify an alternate port\n",
    "driver = '{ODBC Driver 18 for SQL Server}'\n",
    "server = 'prod-sql-cfieducation.database.windows.net' \n",
    "database = 'StockPricesDW' \n",
    "username = 'ReportingUser'\n",
    "password = 'CFICapitalPartners789#'\n",
    "\n",
    "connection_string = f'DRIVER={driver};SERVER=tcp:{server};DATABASE={database};UID={username};PWD={password}'\n",
    "odbc_params = urllib.parse.quote_plus(connection_string)\n",
    "conn_string = f'mssql+pyodbc:///?odbc_connect={odbc_params}'\n",
    "engine = create_engine(conn_string)"
   ]
  },
  {
   "cell_type": "code",
   "execution_count": 12,
   "metadata": {},
   "outputs": [
    {
     "ename": "SyntaxError",
     "evalue": "invalid syntax (1549657014.py, line 2)",
     "output_type": "error",
     "traceback": [
      "\u001b[0;36m  Cell \u001b[0;32mIn[12], line 2\u001b[0;36m\u001b[0m\n\u001b[0;31m    pip install pyodbc\u001b[0m\n\u001b[0m        ^\u001b[0m\n\u001b[0;31mSyntaxError\u001b[0m\u001b[0;31m:\u001b[0m invalid syntax\n"
     ]
    }
   ],
   "source": [
    "# Combine the sql query with the sql connection to get data from a database\n"
   ]
  },
  {
   "cell_type": "markdown",
   "metadata": {},
   "source": [
    "### Selecting Columns"
   ]
  },
  {
   "cell_type": "markdown",
   "metadata": {},
   "source": [
    "We have several options to filter the data coming into our analysis.\n",
    "\n",
    "Options:\n",
    "- Option 1 (SQL): Select the required columns as part of our SQL SELECT statement.\n",
    "- Option 2 (Python): Select the desired columns only from the dataframe in Python.\n",
    "- Option 3 (Python): Drop the NOT required columns from the dataframe."
   ]
  },
  {
   "cell_type": "code",
   "execution_count": null,
   "metadata": {},
   "outputs": [],
   "source": [
    "# Use Option 2 above to create a new dataframe\n",
    "# Keep only the FactID and AdjClose price columns\n"
   ]
  },
  {
   "cell_type": "code",
   "execution_count": 33,
   "metadata": {},
   "outputs": [],
   "source": [
    "# Use Option 2 above to create a new dataframe from the \n",
    "# This time drop the FactID and AdjClose price columns\n"
   ]
  },
  {
   "cell_type": "markdown",
   "metadata": {},
   "source": [
    "Filter Columns\n",
    "\n",
    "We can use the `filter` function allows us to select columns based on the criteria we want. \n",
    "\n",
    "This is a very powerful way of filtering for columns, as we can systematically call for columns that meet a specific condition without having to check manually what kind of columns we have in our dataframe."
   ]
  },
  {
   "cell_type": "code",
   "execution_count": 34,
   "metadata": {
    "scrolled": true
   },
   "outputs": [],
   "source": [
    "# Using the filter function with regex parameters to find a column that contains a specific word\n"
   ]
  },
  {
   "cell_type": "markdown",
   "metadata": {},
   "source": [
    "### Filtering Rows"
   ]
  },
  {
   "cell_type": "markdown",
   "metadata": {},
   "source": [
    "We can also filter for rows that contain a certain string in a column using the `contains` function as well."
   ]
  },
  {
   "cell_type": "code",
   "execution_count": 35,
   "metadata": {
    "scrolled": false
   },
   "outputs": [],
   "source": [
    "# Using the contains functions to find rows that contains a specific word in a column\n"
   ]
  },
  {
   "cell_type": "markdown",
   "metadata": {},
   "source": [
    "We can also filter rows/columns based on logical conditions in the dataframe."
   ]
  },
  {
   "cell_type": "code",
   "execution_count": null,
   "metadata": {},
   "outputs": [],
   "source": [
    "# Filter the rows of the original datframe to include only rows where GradeAverage is A\n"
   ]
  },
  {
   "cell_type": "markdown",
   "metadata": {},
   "source": [
    "We can add additional conditions using the & symbol."
   ]
  },
  {
   "cell_type": "markdown",
   "metadata": {},
   "source": [
    "### Drop Duplicates"
   ]
  },
  {
   "cell_type": "markdown",
   "metadata": {},
   "source": [
    "Generally duplicates are unwanted, although sometimes there is a clear reason why they exist. If we know that duplicates are incorrect, we can deal with them.\n",
    "\n",
    "Lets say that we want to get rid of all duplicate last names. We can first filter for any duplicate last names in our data to see if they exist."
   ]
  },
  {
   "cell_type": "code",
   "execution_count": null,
   "metadata": {
    "scrolled": false
   },
   "outputs": [],
   "source": [
    "# Identify any rows with duplicated last names\n"
   ]
  },
  {
   "cell_type": "markdown",
   "metadata": {},
   "source": [
    "We can see that with the combination of the duplicated function and filtering with it, we found the rows that have duplicated last names. We can now use the drop_duplicates function to easily remove these."
   ]
  },
  {
   "cell_type": "code",
   "execution_count": null,
   "metadata": {
    "scrolled": true
   },
   "outputs": [],
   "source": [
    "#drop duplicates column\n",
    "\n",
    "# Show how we check for dropped duplicate \n",
    "# df_grades, look for specific index that was dropped "
   ]
  },
  {
   "cell_type": "code",
   "execution_count": null,
   "metadata": {
    "scrolled": true
   },
   "outputs": [],
   "source": []
  },
  {
   "cell_type": "markdown",
   "metadata": {},
   "source": [
    "### Exercise 1  - Importing our data "
   ]
  },
  {
   "cell_type": "markdown",
   "metadata": {},
   "source": [
    "Import the csv file titled \"phone_marketplace_dataset_cleaning_set.csv\" and set it as a dataframe. This dataset contains information on used phone sales that happened in various marketplace platforms.\n",
    "\n",
    "Task:\n",
    "- Use the correct pandas function to import the csv file as a dataframe\n",
    "- Assign the imported dataframe to a variable"
   ]
  },
  {
   "cell_type": "code",
   "execution_count": 1,
   "metadata": {},
   "outputs": [],
   "source": [
    "# Import the phone_marketplace_dataset_cleaning_set.csv file into a dataframe\n"
   ]
  },
  {
   "cell_type": "markdown",
   "metadata": {},
   "source": [
    "### Exercise 2  - Conditional Filtering"
   ]
  },
  {
   "cell_type": "markdown",
   "metadata": {},
   "source": [
    "We realized that there may be potential errors in the csv file in which we must deal with. Luckily, we are able to find out the errors came from data which came from craigslist.\n",
    "\n",
    "Task:\n",
    "- Filter for data that have craigslist as a marketplace\n",
    "- From the data that have craigslist as a marketplace, filter for only iPhone 11s"
   ]
  },
  {
   "cell_type": "code",
   "execution_count": null,
   "metadata": {},
   "outputs": [],
   "source": [
    "# Filter the data that has craigstlist as marketplace\n"
   ]
  },
  {
   "cell_type": "code",
   "execution_count": null,
   "metadata": {
    "scrolled": true
   },
   "outputs": [],
   "source": [
    "# Add an additional filter for iphone 11 only.\n"
   ]
  }
 ],
 "metadata": {
  "kernelspec": {
   "display_name": "Python 3",
   "language": "python",
   "name": "python3"
  },
  "language_info": {
   "codemirror_mode": {
    "name": "ipython",
    "version": 3
   },
   "file_extension": ".py",
   "mimetype": "text/x-python",
   "name": "python",
   "nbconvert_exporter": "python",
   "pygments_lexer": "ipython3",
   "version": "3.12.3"
  }
 },
 "nbformat": 4,
 "nbformat_minor": 4
}
